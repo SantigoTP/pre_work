{
 "cells": [
  {
   "cell_type": "code",
   "execution_count": 1,
   "id": "b91e28ff",
   "metadata": {},
   "outputs": [
    {
     "ename": "NameError",
     "evalue": "name 'df_baking' is not defined",
     "output_type": "error",
     "traceback": [
      "\u001b[31m---------------------------------------------------------------------------\u001b[39m",
      "\u001b[31mNameError\u001b[39m                                 Traceback (most recent call last)",
      "\u001b[36mCell\u001b[39m\u001b[36m \u001b[39m\u001b[32mIn[1]\u001b[39m\u001b[32m, line 1\u001b[39m\n\u001b[32m----> \u001b[39m\u001b[32m1\u001b[39m display(\u001b[43mdf_baking\u001b[49m[\u001b[33m\"\u001b[39m\u001b[33mrooms\u001b[39m\u001b[33m\"\u001b[39m].max())\n\u001b[32m      2\u001b[39m display(df_baking[\u001b[33m\"\u001b[39m\u001b[33mrooms\u001b[39m\u001b[33m\"\u001b[39m].min())\n\u001b[32m      3\u001b[39m display(df_baking[\u001b[33m\"\u001b[39m\u001b[33mrooms\u001b[39m\u001b[33m\"\u001b[39m].mean())\n",
      "\u001b[31mNameError\u001b[39m: name 'df_baking' is not defined"
     ]
    }
   ],
   "source": [
    "display(df_baking[\"rooms\"].max())\n",
    "display(df_baking[\"rooms\"].min())\n",
    "display(df_baking[\"rooms\"].mean())\n",
    "display(df_baking[\"rooms\"].isna().sum())\n",
    "\n",
    "display(df_baking[\"rooms\"].describe())"
   ]
  },
  {
   "cell_type": "code",
   "execution_count": null,
   "id": "df89c475",
   "metadata": {},
   "outputs": [],
   "source": [
    "df_baking[\"rooms\"].isna().sum() / df_baking.shape[0]"
   ]
  },
  {
   "cell_type": "code",
   "execution_count": null,
   "id": "b8ec591d",
   "metadata": {},
   "outputs": [],
   "source": [
    "#Tabla con multiples series, hayamos su valor minimo y maximo \n",
    "display(df_baking[[\"rooms\",\"bathrooms\"]].min()) \n",
    "display(df_baking[[\"rooms\",\"bathrooms\"]].max())"
   ]
  },
  {
   "cell_type": "code",
   "execution_count": null,
   "id": "74c605c2",
   "metadata": {},
   "outputs": [
    {
     "ename": "NameError",
     "evalue": "name 'df_baking' is not defined",
     "output_type": "error",
     "traceback": [
      "\u001b[31m---------------------------------------------------------------------------\u001b[39m",
      "\u001b[31mNameError\u001b[39m                                 Traceback (most recent call last)",
      "\u001b[36mCell\u001b[39m\u001b[36m \u001b[39m\u001b[32mIn[1]\u001b[39m\u001b[32m, line 1\u001b[39m\n\u001b[32m----> \u001b[39m\u001b[32m1\u001b[39m \u001b[43mdf_baking\u001b[49m.describe(include = \u001b[33m\"\u001b[39m\u001b[33mcategory\u001b[39m\u001b[33m\"\u001b[39m)\n\u001b[32m      2\u001b[39m \u001b[38;5;66;03m#Tabla transpuesta con el metodo .T\u001b[39;00m\n\u001b[32m      3\u001b[39m df_baking.describe(include=\u001b[33m\"\u001b[39m\u001b[33mcategory\u001b[39m\u001b[33m\"\u001b[39m).T\n",
      "\u001b[31mNameError\u001b[39m: name 'df_baking' is not defined"
     ]
    }
   ],
   "source": [
    "#Imprimimos una tabla unicamente con los datos de categoria (Category)\n",
    "df_baking.describe(include = \"category\")\n",
    "#Tabla transpuesta con el metodo .T\n",
    "df_baking.describe(include=\"category\").T"
   ]
  },
  {
   "cell_type": "code",
   "execution_count": null,
   "id": "d842967f",
   "metadata": {},
   "outputs": [],
   "source": [
    "#Filtros \n",
    "df_baking [ df_baking[\"bathrooms\"] > 10]\n",
    "df_baking [ df_baking[\"price\"] == 0 ]\n",
    "df_baking[\"price\"].mean()\n",
    "df_baking[ df_baking[\"price\"] != 0 ][\"price\"].mean()\n",
    "df_baking[ df_baking[\"price\"] != 0 ][\"price\"].median()\n",
    "df_baking[ df_baking[\"realestate_name\"] == \"engel volkers madrid\" ]\n",
    "df_baking[(df_baking[\"price\"] != 0) & (df_baking[\"price\"] < 282048)][\"price\"].mean()"
   ]
  },
  {
   "cell_type": "code",
   "execution_count": 15,
   "id": "b0fcf61c",
   "metadata": {},
   "outputs": [
    {
     "data": {
      "text/html": [
       "<div>\n",
       "<style scoped>\n",
       "    .dataframe tbody tr th:only-of-type {\n",
       "        vertical-align: middle;\n",
       "    }\n",
       "\n",
       "    .dataframe tbody tr th {\n",
       "        vertical-align: top;\n",
       "    }\n",
       "\n",
       "    .dataframe thead th {\n",
       "        text-align: right;\n",
       "    }\n",
       "</style>\n",
       "<table border=\"1\" class=\"dataframe\">\n",
       "  <thead>\n",
       "    <tr style=\"text-align: right;\">\n",
       "      <th></th>\n",
       "      <th>country</th>\n",
       "      <th>city</th>\n",
       "      <th>numbers</th>\n",
       "    </tr>\n",
       "  </thead>\n",
       "  <tbody>\n",
       "    <tr>\n",
       "      <th>0</th>\n",
       "      <td>Spain</td>\n",
       "      <td>Madrid</td>\n",
       "      <td>3</td>\n",
       "    </tr>\n",
       "    <tr>\n",
       "      <th>1</th>\n",
       "      <td>Spain</td>\n",
       "      <td>Madrid</td>\n",
       "      <td>4</td>\n",
       "    </tr>\n",
       "    <tr>\n",
       "      <th>2</th>\n",
       "      <td>Spain</td>\n",
       "      <td>Madrid</td>\n",
       "      <td>5</td>\n",
       "    </tr>\n",
       "    <tr>\n",
       "      <th>3</th>\n",
       "      <td>Spain</td>\n",
       "      <td>Galicia</td>\n",
       "      <td>7</td>\n",
       "    </tr>\n",
       "    <tr>\n",
       "      <th>4</th>\n",
       "      <td>Spain</td>\n",
       "      <td>Galicia</td>\n",
       "      <td>9</td>\n",
       "    </tr>\n",
       "  </tbody>\n",
       "</table>\n",
       "</div>"
      ],
      "text/plain": [
       "  country     city  numbers\n",
       "0   Spain   Madrid        3\n",
       "1   Spain   Madrid        4\n",
       "2   Spain   Madrid        5\n",
       "3   Spain  Galicia        7\n",
       "4   Spain  Galicia        9"
      ]
     },
     "execution_count": 15,
     "metadata": {},
     "output_type": "execute_result"
    }
   ],
   "source": [
    "import pandas as pd \n",
    "\n",
    "my_df = pd.DataFrame(\n",
    "    {\n",
    "        \"country\":[\"Spain\",\"Spain\",\"Spain\",\"Spain\",\"Spain\"],\n",
    "        \"city\":[\"Madrid\",\"Madrid\",\"Madrid\",\"Galicia\",\"Galicia\"],\n",
    "        \"numbers\":[3,4,5,7,9]\n",
    "\n",
    "    }\n",
    ")\n",
    "my_df"
   ]
  },
  {
   "cell_type": "code",
   "execution_count": 16,
   "id": "659d1ff8",
   "metadata": {},
   "outputs": [
    {
     "data": {
      "text/plain": [
       "city\n",
       "Galicia    8.0\n",
       "Madrid     4.0\n",
       "Name: numbers, dtype: float64"
      ]
     },
     "execution_count": 16,
     "metadata": {},
     "output_type": "execute_result"
    }
   ],
   "source": [
    "my_df.groupby(\"city\")[\"numbers\"].mean()"
   ]
  },
  {
   "cell_type": "code",
   "execution_count": 19,
   "id": "6d249bd7",
   "metadata": {},
   "outputs": [
    {
     "data": {
      "text/plain": [
       "city\n",
       "Galicia    7\n",
       "Madrid     3\n",
       "Name: numbers, dtype: int64"
      ]
     },
     "execution_count": 19,
     "metadata": {},
     "output_type": "execute_result"
    }
   ],
   "source": [
    "my_df.groupby(\"city\")[\"numbers\"].min()"
   ]
  },
  {
   "cell_type": "code",
   "execution_count": null,
   "id": "7556abc1",
   "metadata": {},
   "outputs": [],
   "source": []
  }
 ],
 "metadata": {
  "kernelspec": {
   "display_name": ".venv",
   "language": "python",
   "name": "python3"
  },
  "language_info": {
   "codemirror_mode": {
    "name": "ipython",
    "version": 3
   },
   "file_extension": ".py",
   "mimetype": "text/x-python",
   "name": "python",
   "nbconvert_exporter": "python",
   "pygments_lexer": "ipython3",
   "version": "3.12.1"
  }
 },
 "nbformat": 4,
 "nbformat_minor": 5
}
